{
  "nbformat": 4,
  "nbformat_minor": 0,
  "metadata": {
    "colab": {
      "provenance": []
    },
    "kernelspec": {
      "name": "python3",
      "display_name": "Python 3"
    },
    "language_info": {
      "name": "python"
    }
  },
  "cells": [
    {
      "cell_type": "markdown",
      "source": [
        "# **Introductory Programming Problems - Base Python**"
      ],
      "metadata": {
        "id": "OyFx70BY4CYu"
      }
    },
    {
      "cell_type": "markdown",
      "source": [
        "# Bottom-up approach"
      ],
      "metadata": {
        "id": "kCTQQfSOGGeE"
      }
    },
    {
      "cell_type": "markdown",
      "source": [
        "**Task 1:** \"Output the numbers from 0 to 9\" (Porter and Zingaro, 2024)"
      ],
      "metadata": {
        "id": "_uW5DInaDVjb"
      }
    },
    {
      "cell_type": "markdown",
      "source": [
        "**Solution 1**\n",
        "* initialize a variable (e.g., i)\n",
        "* int vs float\n",
        "* while loop\n",
        "* loop properties: what is inside and outside the loop\n",
        "* less than operator (<)\n",
        "* addition assignment operator (+=)\n",
        "* Python indentation\n",
        "* print() function\n",
        "* evaluating/explaining output format"
      ],
      "metadata": {
        "id": "sTKRz2f3KCiF"
      }
    },
    {
      "cell_type": "code",
      "source": [
        "i = 0\n",
        "while i < 10:\n",
        "  print(i)\n",
        "  i += 1"
      ],
      "metadata": {
        "id": "t_zwrXgA36vs"
      },
      "execution_count": null,
      "outputs": []
    },
    {
      "cell_type": "markdown",
      "source": [
        "**Solution 2**\n",
        "* initializing a variable (e.g., i, num,...)\n",
        "* for loop\n",
        "* loop properties: what is inside and outside the loop\n",
        "* Python indentation\n",
        "* print() function\n",
        "* range() function - stop value\n",
        "* evaluating/explaining output format"
      ],
      "metadata": {
        "id": "fW5estr6KKP_"
      }
    },
    {
      "cell_type": "code",
      "source": [
        "for i in range(10):\n",
        "    print(i)"
      ],
      "metadata": {
        "id": "5ysPBH01Kp2Q"
      },
      "execution_count": null,
      "outputs": []
    },
    {
      "cell_type": "code",
      "source": [
        "for num in range(10):\n",
        "    print(num)"
      ],
      "metadata": {
        "id": "q408oY62PgRL"
      },
      "execution_count": null,
      "outputs": []
    },
    {
      "cell_type": "markdown",
      "source": [
        "**Solution 3**\n",
        "* for loop\n",
        "* loop properties (i.e., initializing variables, what is inside and ourside the loop, etc.)\n",
        "* range() function - start and stop values\n",
        "* range() fucntion properties (i.e., inclusive and exclusive values, \"default behavior\", etc.)\n",
        "* print() function"
      ],
      "metadata": {
        "id": "zKmWkW-NNtdY"
      }
    },
    {
      "cell_type": "code",
      "source": [
        "for i in range(0, 10):\n",
        "    print(i)"
      ],
      "metadata": {
        "id": "x3HWevD5NxRq"
      },
      "execution_count": null,
      "outputs": []
    },
    {
      "cell_type": "markdown",
      "source": [
        "**Solution 4**\n",
        "* print() function\n",
        "* unpacking operator (*)\n",
        "* evaluating/explaining output format"
      ],
      "metadata": {
        "id": "ytXMT19ILPBf"
      }
    },
    {
      "cell_type": "code",
      "source": [
        "print(*range(10))"
      ],
      "metadata": {
        "id": "JNCNZaYfLS31"
      },
      "execution_count": null,
      "outputs": []
    },
    {
      "cell_type": "markdown",
      "source": [
        "# Top-down approach"
      ],
      "metadata": {
        "id": "XGXnJhz9QAzx"
      }
    },
    {
      "cell_type": "markdown",
      "source": [
        "**Word problem 1:** \"Write a program that will read the amount of rainfall for each day. A negative value of rainfall should be rejected since this is invalid and inadmissible. The program should print out the number of valid recorded days, the number of rainy days, the rainfall over the period, and the maximum amount of rain that fell on any one day. Use a sentinel value of 9999 to terminate the program.\" (Porter and Zingaro, 2024)"
      ],
      "metadata": {
        "id": "qnQMjB265Bv6"
      }
    },
    {
      "cell_type": "markdown",
      "source": [
        "**Solution 1**\n",
        "\n",
        "* Assignment of Int\n",
        "* Input Function"
      ],
      "metadata": {
        "id": "65WC7_VBQHiU"
      }
    },
    {
      "cell_type": "code",
      "source": [
        "rainfall = 0\n",
        "total_rainfall = 0\n",
        "num_rainy_days = 0\n",
        "num_valid_days = 0\n",
        "max_rainfall = 0\n",
        "rainfall = int (input(\n",
        "    \"Enter the amount of rainfall for the day: \"))"
      ],
      "metadata": {
        "id": "wPjPF0C_71gL"
      },
      "execution_count": null,
      "outputs": []
    },
    {
      "cell_type": "markdown",
      "source": [
        "**Solution 2**\n",
        "\n",
        "* not operator\n",
        "* while loop\n",
        "* less than operator\n",
        "* if / else conditiosn\n",
        "* increment operator\n",
        "* input function\n",
        "* print function"
      ],
      "metadata": {
        "id": "udhrmFkQ72xe"
      }
    },
    {
      "cell_type": "code",
      "source": [
        "while rainfall != 9999:\n",
        "    if rainfall < 0:\n",
        "        print(\"Invalid rainfall amount. Please try again.\")\n",
        "        rainfall = int(input(\n",
        "            \"Enter the amount of rainfall for the day: \"))\n",
        "    else:\n",
        "        num_valid_days += 1\n",
        "        total_rainfall += rainfall\n",
        "        if rainfall > 0:\n",
        "            num_rainy_days += 1\n",
        "        if rainfall > max_rainfall:\n",
        "            max_rainfall = rainfall\n",
        "        rainfall = int(input(\n",
        "            \"Enter the amount of rainfall for the day: \"))"
      ],
      "metadata": {
        "id": "N0-X4ObQ72KH"
      },
      "execution_count": null,
      "outputs": []
    },
    {
      "cell_type": "markdown",
      "source": [
        "**Solution 3**\n",
        "* Print functions\n",
        "* formatting the string in print"
      ],
      "metadata": {
        "id": "p2ChaRWq8Qbr"
      }
    },
    {
      "cell_type": "code",
      "source": [
        "print(\"Number of valid days:\", num_valid_days)\n",
        "print(\"Number of rainy days:\", num_rainy_days)\n",
        "print(\"Total rainfall over the period:\", total_rainfall)\n",
        "print(\"Maximum amount of rain that fell on any one day:\", max_rainfall)"
      ],
      "metadata": {
        "id": "pJeaQ63R5FWP"
      },
      "execution_count": null,
      "outputs": []
    },
    {
      "cell_type": "code",
      "source": [],
      "metadata": {
        "id": "Zlo-Gf2GQm4n"
      },
      "execution_count": null,
      "outputs": []
    },
    {
      "cell_type": "markdown",
      "source": [
        "**Word problem 2** In the data we just read in, the fourth column is the player and the 8th column is the passing yards. Get the sum of yards from column 8 where the 4th column value is \"Aaron Rodgers\""
      ],
      "metadata": {
        "id": "0duCguPZQQ5z"
      }
    },
    {
      "cell_type": "markdown",
      "source": [
        "**Solution 1**\n",
        "\n",
        " * assignment and int\n"
      ],
      "metadata": {
        "id": "A-Y0acQdKKNx"
      }
    },
    {
      "cell_type": "code",
      "source": [
        "passing_yards = 0"
      ],
      "metadata": {
        "id": "c8KW4YJO7uR8"
      },
      "execution_count": null,
      "outputs": []
    },
    {
      "cell_type": "markdown",
      "source": [
        "**Solution 2**\n",
        "\n",
        "* for loop with conditional\n",
        "\n",
        "* print function call in the for loops"
      ],
      "metadata": {
        "id": "6ISCS-5JKZR1"
      }
    },
    {
      "cell_type": "code",
      "source": [
        "\n",
        "for row in nfl_data:\n",
        "  if row[3] == 'Aaron Rodgers':\n",
        "    passing_yards += int(row[7])\n",
        "  print(passing_yards)"
      ],
      "metadata": {
        "id": "JmHsB9yGQeS3"
      },
      "execution_count": null,
      "outputs": []
    },
    {
      "cell_type": "markdown",
      "source": [
        "**Word Problem 3** word_list is a list of words. Return the word worth the most points."
      ],
      "metadata": {
        "id": "tuLdl5gkwEx3"
      }
    },
    {
      "cell_type": "markdown",
      "source": [
        "**Solution 1**\n",
        "\n",
        "* Assignment operator string, int"
      ],
      "metadata": {
        "id": "zr_f_QH2KxdM"
      }
    },
    {
      "cell_type": "code",
      "source": [
        "best_word = \"\"\n",
        "best_points = 0"
      ],
      "metadata": {
        "id": "BI_LJEMUKzaR"
      },
      "execution_count": null,
      "outputs": []
    },
    {
      "cell_type": "markdown",
      "source": [
        "**Solution 2**\n",
        "\n",
        "* for loop\n",
        "* loop words through the list\n",
        "* if conditional"
      ],
      "metadata": {
        "id": "dGHb4y2hKxaM"
      }
    },
    {
      "cell_type": "code",
      "source": [
        "\n",
        "for word in word_list:\n",
        "  points = num_points(word)\n",
        "  if points > best_points:\n",
        "    best_word = word\n",
        "    best_points = points\n",
        "return best_word"
      ],
      "metadata": {
        "id": "7bGlfrnBwEfG"
      },
      "execution_count": null,
      "outputs": []
    },
    {
      "cell_type": "markdown",
      "source": [
        "**Word Problem 4** Generate a random string with num_digits digits. The player has num_guesses guesses to guess the random string. After each guess, the player is told how many digits in the guess are in the correct place, and how many digits exist but are in the wrong place."
      ],
      "metadata": {
        "id": "tCtbUUfGyQH8"
      }
    },
    {
      "cell_type": "markdown",
      "source": [
        "**Solution 1**\n",
        "\n",
        "* function declaration\n",
        "* parameters in function\n",
        "\n",
        "* function call\n",
        "\n",
        "* print statement\n",
        "* for loop with range function\n",
        "\n",
        "* if conditional"
      ],
      "metadata": {
        "id": "hpiDp67fLNFV"
      }
    },
    {
      "cell_type": "code",
      "source": [
        "def play(num_digits, num_guesses):\n",
        "  answer = random_string(num_digits)\n",
        "  print('I generated a random {}-digit number.'.format(num_digits))\n",
        "  print('You have {} guesses to guess the number.'.format(num_guesses))\n",
        "  for i in range(num_guesses):\n",
        "    guess = get_guess(num_digits)\n",
        "\n",
        "  result = guess_result(guess, answer)\n",
        "  print('Correct: {}, Misplaced: {}'.format(result[0], result[1]))\n",
        "  if guess == answer:\n",
        "    print('You win!')\n",
        "    return\n",
        "  print('You lose! The correct answer was {}.'.format(answer))"
      ],
      "metadata": {
        "id": "9kmgGMFvyWQ2"
      },
      "execution_count": null,
      "outputs": []
    },
    {
      "cell_type": "markdown",
      "source": [
        "**Solution 2**\n",
        "\n",
        "* input function,\n",
        "\n",
        "* assignment to a variable\n",
        "\n",
        "* while loop\n",
        "\n",
        "* conditional not operator\n",
        "\n",
        "* function call to calculate strong password\n",
        "\n",
        "* return statement inside function"
      ],
      "metadata": {
        "id": "ju-3P4iMLgEe"
      }
    },
    {
      "cell_type": "code",
      "source": [
        "password = input(\"Enter a strong password: \")\n",
        "while not is_strong_password(password):\n",
        "  password = input(\"Enter a strong password: \")\n",
        "return password"
      ],
      "metadata": {
        "id": "YVehGz-66QNs"
      },
      "execution_count": null,
      "outputs": []
    },
    {
      "cell_type": "markdown",
      "source": [
        "# **Intermediate Programming Problems**"
      ],
      "metadata": {
        "id": "LqpX3hg9FZiE"
      }
    },
    {
      "cell_type": "markdown",
      "source": [
        "**Functional user requirement 1:**\n",
        "\"Design and implement a Python program that creates an interactive map for a nonprofit organization. The map should visually represent different service areas of the organization. For each service area, include impact stories that showcase the organization’s work, incorporating multimedia content such as images and text. Additionally, the program should allow users to click on the service areas to view associated video content. The videos should be exportable and shareable on the organization’s website and social media platforms.\n",
        "\n",
        "**Functional Specifications:**\n",
        "* Use a suitable library to create the interactive map (e.g., Folium or Plotly).\n",
        "* Include multimedia content for each service area, such as images, text-based stories, and videos.\n",
        "* Allow users to interact with the map by clicking on service areas to display impact stories and multimedia.\n",
        "* Implement functionality to export video content for use on a website and social media platforms (e.g., MP4 format).\n",
        "* Ensure the map is visually appealing and user-friendly.\"\n",
        "\n",
        "(Adapted from \"iServe Fall 2024 Partner Projects. Project #9 - Women for a Healthy Environment\" with ChatGPT: https://chatgpt.com/share/670dbf83-9a94-8008-9b0b-d6493c6674b5)"
      ],
      "metadata": {
        "id": "l9fsHm1cG-Xn"
      }
    },
    {
      "cell_type": "markdown",
      "source": [
        "**Functional user requirement 2:** \"Develop a Python program to help a business revamp its website and create a template for a social media calendar. The program should automate the creation of a modern, responsive website template that can be customized further by the user. Additionally, the program must generate a social media calendar template that allows users to schedule and organize posts for different platforms.\n",
        "\n",
        "**Functional Specifications:**\n",
        "* Use Python libraries to generate a customizable website template (e.g., Jinja2 or Flask for templating).\n",
        "* Ensure the website design is responsive and adaptable to mobile and desktop views.\n",
        "* Create a social media calendar template that organizes posts by day and platform (e.g., Instagram, Facebook, Twitter).\n",
        "* Provide functionality to schedule posts in the calendar and export the schedule in a user-friendly format (e.g., CSV, Excel).\n",
        "* Allow users to input basic information (titles, dates, descriptions, platform) for each post.\n",
        "* Ensure both the website and calendar template can be easily edited and updated by non-technical users.\"\n",
        "\n",
        "(Adapted from \"iServe Fall 2024 Partner Projects. Project #8 – True T PGH\" with ChatGPT: https://chatgpt.com/share/670dbf83-9a94-8008-9b0b-d6493c6674b5)"
      ],
      "metadata": {
        "id": "9BwUwE-Uxp5P"
      }
    },
    {
      "cell_type": "markdown",
      "source": [
        "**Functional user requirement 3:** \"Develop a Python program that analyzes survey data collected from various stakeholders (e.g., funders, constituents) and generates comprehensive reports. The program should automate data analysis, calculate key outcomes, and produce customizable reports that can be distributed to different audiences, such as funders and constituents.\n",
        "\n",
        "**Functional Specifications:**\n",
        "1.  Load and process survey data from files (e.g., CSV, Excel).\n",
        "2.  Analyze the data to calculate relevant statistics and outcomes (e.g., averages, trends, satisfaction scores).\n",
        "3.  Visualize the analysis using charts, graphs, or tables (e.g., using Matplotlib or Seaborn).\n",
        "4.  Allow the user to generate customized reports, including selecting which data to include, formatting options, and tailoring the content for different audiences.\n",
        "5.  Export the reports in common formats like PDF or Word.\n",
        "6.  Ensure the program can handle large datasets and perform the analysis efficiently.\n",
        "7.  Provide functionality to send the reports via email to selected recipients (e.g., funders, constituents).\n",
        "\n",
        "(Adapted from \"iServe Fall 2024 Partner Projects. Project #7 – Ruth’s Way\" with ChatGPT: https://chatgpt.com/share/670dbf83-9a94-8008-9b0b-d6493c6674b5)"
      ],
      "metadata": {
        "id": "FogOsAR5yDCm"
      }
    },
    {
      "cell_type": "markdown",
      "source": [
        "**Functional User Requirement 4:** \"Develop a Python program that helps a business update its website content based on insights from Google Analytics and reflects its updated brand identity following a recent merger and name change. The program should automate the process of analyzing website traffic data and provide suggestions for content updates to align with the new brand guidelines.\n",
        "\n",
        "**Functional Specifications:**\n",
        "1. Use Python to interact with the Google Analytics API to retrieve website traffic data (e.g., most visited pages, user behavior, bounce rates).\n",
        "2. Analyze the data to identify content areas that need updates or improvements based on user engagement metrics.\n",
        "3. Provide suggestions for updating content to improve SEO, engagement, and alignment with the updated brand (e.g., new name, logos, tone of messaging).\n",
        "4. Include functionality to compare current website performance with pre-merger data, highlighting changes in traffic and user engagement.\n",
        "5. Generate a report summarizing the content update recommendations, including which sections of the website need changes.\n",
        "6. Allow users to export the analysis and content suggestions in a format suitable for web designers or content managers (e.g., PDF, Word).\n",
        "7. Ensure the program is user-friendly, providing clear instructions for importing Google Analytics data and viewing content recommendations.\"\n",
        "\n",
        "(Adapted from \"iServe Fall 2024 Partner Projects. Project #5 – Mary, Queen of Peace Parish\" with ChatGPT: https://chatgpt.com/share/670dbf83-9a94-8008-9b0b-d6493c6674b5)"
      ],
      "metadata": {
        "id": "_wSv9eiMzo8o"
      }
    },
    {
      "cell_type": "markdown",
      "source": [
        "**Functional User Requirement 5:**"
      ],
      "metadata": {
        "id": "mLCNRo1rz6Sb"
      }
    }
  ]
}